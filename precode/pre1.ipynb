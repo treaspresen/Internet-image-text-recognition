{
 "cells": [
  {
   "cell_type": "code",
   "execution_count": 2,
   "id": "0b5a852d",
   "metadata": {
    "ExecuteTime": {
     "end_time": "2023-02-04T05:53:35.119207Z",
     "start_time": "2023-02-04T05:53:34.667782Z"
    }
   },
   "outputs": [],
   "source": [
    "import os\n",
    "import cv2\n",
    "from PIL import Image, ImageDraw, ImageFont\n",
    "import matplotlib.pyplot as plt\n",
    "import numpy as np\n",
    "\n",
    "from tqdm import tqdm"
   ]
  },
  {
   "cell_type": "code",
   "execution_count": 3,
   "id": "c285dfa5",
   "metadata": {
    "ExecuteTime": {
     "end_time": "2023-02-04T06:59:21.863817Z",
     "start_time": "2023-02-04T06:59:21.852848Z"
    }
   },
   "outputs": [],
   "source": [
    "from paddleocr import PaddleOCR\n",
    "ocr = PaddleOCR(use_angle_cls = True, use_gpu= False, show_log=False)"
   ]
  },
  {
   "cell_type": "code",
   "execution_count": 1,
   "id": "120a4c2f",
   "metadata": {
    "ExecuteTime": {
     "end_time": "2023-02-03T06:32:58.268494Z",
     "start_time": "2023-02-03T06:32:58.257905Z"
    }
   },
   "outputs": [],
   "source": [
    "# ※※※\n",
    "# 将txt文件中的坐标转换成yolo格式, 并增加一项类别\n",
    "img_path = './data/tianchi/image_train'\n",
    "imgs_all = os.listdir(img_path)\n",
    "\n",
    "txt_path = './data/tianchi/txt_train'\n",
    "txt_all = os.listdir(txt_path)\n",
    "\n",
    "new_dir_img = './data/tianchi/images_new_all'\n",
    "new_dir_txt = './data/tianchi/labels_new_all'\n",
    "\n",
    "for i, img_single in enumerate(imgs_all):\n",
    "    entire_path = img_path + '/' + img_single\n",
    "    print(entire_path)\n",
    "    img = cv2.imread(entire_path)\n",
    "    height, width, _ = img.shape\n",
    "    with open(os.path.join(txt_path, txt_all[i]), \"r\", encoding=\"utf-8\") as f:\n",
    "        lines = f.readlines()\n",
    "        for line in lines:\n",
    "            # print(line)\n",
    "            # 坐标_左上角逆时针1, 2, 3, 4\n",
    "            x1 = float(line.split(',')[0])\n",
    "            y1 = float(line.split(',')[1])\n",
    "            x2 = float(line.split(',')[2])\n",
    "            y2 = float(line.split(',')[3])\n",
    "            x3 = float(line.split(',')[4])\n",
    "            y3 = float(line.split(',')[5])\n",
    "            x4 = float(line.split(',')[6])\n",
    "            y4 = float(line.split(',')[7])\n",
    "            \n",
    "            x_center = (x1 + x3) / 2\n",
    "            y_center = (y1 + y3) / 2\n",
    "            \n",
    "            x = round(x_center / width, 7)\n",
    "            y = round(y_center / height, 7)\n",
    "            w = round(abs(x3 - x1) / width, 7)\n",
    "            h = round(abs(y3 - y1) / height, 7)\n",
    "            class_id = 0\n",
    "            \n",
    "            save_path_img = new_dir_img + '/' + '{:04d}.jpg'.format(i)\n",
    "            save_path_txt = new_dir_txt + '/' + '{:04d}.txt'.format(i)\n",
    "\n",
    "            # 保存图片和对应的txt\n",
    "            cv2.imwrite(save_path_img, img)\n",
    "            with open(save_path_txt, \"a\", encoding=\"utf-8\") as nf:\n",
    "                write_words = str(class_id) + ' ' + str(x) + ' ' + str(y) + ' ' + str(w) + ' ' + str(h) + '\\n'\n",
    "                nf.write(write_words)\n",
    "            nf.close()"
   ]
  },
  {
   "cell_type": "code",
   "execution_count": 1,
   "id": "e06f82e0",
   "metadata": {
    "ExecuteTime": {
     "end_time": "2023-02-04T06:17:54.817820Z",
     "start_time": "2023-02-04T06:17:52.180582Z"
    }
   },
   "outputs": [],
   "source": [
    "# # 根据坐标裁剪出图片, 并识别\n",
    "\n",
    "# img_path = './data/tianchi/images_restore/0000.txt.jpg'\n",
    "# txt_path = './data/tianchi/labels_restore/0000.txt'\n",
    "\n",
    "# img = cv2.imread(img_path)\n",
    "# with open(txt_path, 'r', encoding='utf-8') as f:\n",
    "#     lines = f.readlines()\n",
    "# #     print(lines)\n",
    "#     for line in lines:\n",
    "#         # 虽然矩形左上右上y值一样，左上左下x值一样\n",
    "#         left_up_x= float(line.split(',')[0])\n",
    "#         left_up_y = float(line.split(',')[1])\n",
    "        \n",
    "#         right_down_x = float(line.split(',')[4])\n",
    "#         right_down_y = float(line.split(',')[5])\n",
    "        \n",
    "#         crop = img[int(left_up_y):int(right_down_y), int(left_up_x):int(right_down_x)]\n",
    "#         # image = Image.fromarray(cv2.cvtColor(crop, cv2.COLOR_BGR2RGB))\n",
    "#         # text = pytesseract.image_to_string(image, lang='chi_sim')\n",
    "#         text = ocr.ocr(crop, cls=True)\n",
    "# #         cv2.imshow('zz', crop)\n",
    "#         break\n",
    "        \n",
    "# f.close()\n",
    "# text"
   ]
  },
  {
   "cell_type": "code",
   "execution_count": 8,
   "id": "630eb687",
   "metadata": {},
   "outputs": [],
   "source": [
    "# t = ocr.ocr('./data/tianchi/image_train/T1.3BPFFJdXXXXXXXX_!!0-item_pic.jpg.jpg', cls=True) "
   ]
  },
  {
   "cell_type": "code",
   "execution_count": 4,
   "id": "ed73fd96",
   "metadata": {},
   "outputs": [],
   "source": [
    "# t[0][0]"
   ]
  },
  {
   "cell_type": "code",
   "execution_count": 3,
   "id": "8a2f56b8",
   "metadata": {},
   "outputs": [],
   "source": [
    "# t[0][0][1][0]"
   ]
  },
  {
   "cell_type": "code",
   "execution_count": 2,
   "id": "dc3e97f5",
   "metadata": {},
   "outputs": [],
   "source": [
    "# text[0][0][1][0]"
   ]
  },
  {
   "cell_type": "code",
   "execution_count": 59,
   "id": "18d9df48",
   "metadata": {
    "ExecuteTime": {
     "end_time": "2023-01-30T15:25:05.357335Z",
     "start_time": "2023-01-30T15:25:05.341690Z"
    }
   },
   "outputs": [],
   "source": [
    "# # 创建新文件夹存放labels\n",
    "# new_dir = './data/tianchi/labels/train'\n",
    "# if not os.path.exists(new_dir):\n",
    "#     os.makedirs(new_dir)"
   ]
  },
  {
   "cell_type": "code",
   "execution_count": 57,
   "id": "ed73ae10",
   "metadata": {
    "ExecuteTime": {
     "end_time": "2023-01-30T15:17:44.186281Z",
     "start_time": "2023-01-30T15:17:44.177305Z"
    }
   },
   "outputs": [
    {
     "name": "stdout",
     "output_type": "stream",
     "text": [
      "./data/tianchi/image_train/T1.3BPFFJdXXXXXXXX_!!0-item_pic.jpg.jpg\n",
      "./data/tianchi/txt_train/T1.3BPFFJdXXXXXXXX_!!0-item_pic.jpg.txt\n"
     ]
    }
   ],
   "source": [
    "# print(imgpath + '/' + imgs_all[0])\n",
    "# print(txt_path + '/' + txt_all[0])"
   ]
  },
  {
   "cell_type": "code",
   "execution_count": 75,
   "id": "72ad5ce9",
   "metadata": {
    "ExecuteTime": {
     "end_time": "2023-01-30T16:17:23.869883Z",
     "start_time": "2023-01-30T16:17:23.864897Z"
    }
   },
   "outputs": [],
   "source": [
    "# round(1.34453, 3)"
   ]
  },
  {
   "cell_type": "code",
   "execution_count": 6,
   "id": "51ee2306",
   "metadata": {
    "ExecuteTime": {
     "end_time": "2023-02-03T08:10:32.498748Z",
     "start_time": "2023-02-03T08:10:32.482828Z"
    }
   },
   "outputs": [],
   "source": [
    "# # 测试图片是否都能被cv2读取\n",
    "# imgpath = './data/tianchi/image_test'\n",
    "# imgs_all = os.listdir(imgpath)\n",
    "\n",
    "# c = 0\n",
    "\n",
    "# for i, img_single in enumerate(imgs_all):\n",
    "#     entire_path = imgpath + '/' + img_single\n",
    "# #     print(entire_path)\n",
    "#     img = cv2.imread(entire_path)\n",
    "#     if img is None:\n",
    "#         c += 1\n",
    "# #         print(i)\n",
    "# #         print(img_single)\n",
    "# #         break\n",
    "# print(c)"
   ]
  },
  {
   "cell_type": "code",
   "execution_count": 45,
   "id": "ede3fd45",
   "metadata": {
    "ExecuteTime": {
     "end_time": "2023-01-30T14:59:50.606835Z",
     "start_time": "2023-01-30T14:59:46.925045Z"
    }
   },
   "outputs": [],
   "source": [
    "# show_img_text('./data/tianchi/image_train/T1.3BPFFJdXXXXXXXX_!!0-item_pic.jpg.jpg')\n",
    "# show_img_text('./data/tianchi/image_train/' + imgs_all[600])"
   ]
  },
  {
   "cell_type": "code",
   "execution_count": 39,
   "id": "e7b9df15",
   "metadata": {
    "ExecuteTime": {
     "end_time": "2023-01-30T14:57:03.639697Z",
     "start_time": "2023-01-30T14:57:03.621734Z"
    }
   },
   "outputs": [],
   "source": [
    "# ※※※\n",
    "# 删除 opencv 读取不了的图片及其 txt\n",
    "# 还剩 9924 张训练图片\n",
    "imgpath = './data/tianchi/image_train'\n",
    "imgs_all = os.listdir(imgpath)\n",
    "\n",
    "c = 0\n",
    "del_lst = []\n",
    "\n",
    "for i, img_single in enumerate(imgs_all):\n",
    "    entire_path = imgpath + '/' + img_single\n",
    "#     print(entire_path)\n",
    "    img = cv2.imread(entire_path)\n",
    "    if img is None:\n",
    "        c += 1\n",
    "        os.remove(entire_path)\n",
    "#         print(i)\n",
    "#         print(img_single)\n",
    "#         break\n",
    "        del_lst.append(i)\n",
    "print(c)\n",
    "\n",
    "txt_path = './data/tianchi/txt_train'\n",
    "txt_all = os.listdir(txt_path)\n",
    "\n",
    "for i, txt_single in enumerate(txt_all):\n",
    "    entire_path = txt_path + '/' + txt_single\n",
    "#     print(entire_path)\n",
    "    if i in del_lst:\n",
    "        os.remove(entire_path)"
   ]
  },
  {
   "cell_type": "code",
   "execution_count": null,
   "id": "222c110b",
   "metadata": {},
   "outputs": [],
   "source": [
    "# 一共删除124\n",
    "# T1mLyYXvRaXXXXXXXX_!!1-item_pic"
   ]
  },
  {
   "cell_type": "code",
   "execution_count": 46,
   "id": "4e826e45",
   "metadata": {
    "ExecuteTime": {
     "end_time": "2023-01-30T15:02:14.901352Z",
     "start_time": "2023-01-30T15:02:14.889385Z"
    }
   },
   "outputs": [
    {
     "data": {
      "text/plain": [
       "9924"
      ]
     },
     "execution_count": 46,
     "metadata": {},
     "output_type": "execute_result"
    }
   ],
   "source": [
    "# len(imgs_all)\n",
    "# imgs_all[5000]"
   ]
  }
 ],
 "metadata": {
  "kernelspec": {
   "display_name": "py38",
   "language": "python",
   "name": "python3"
  },
  "language_info": {
   "codemirror_mode": {
    "name": "ipython",
    "version": 3
   },
   "file_extension": ".py",
   "mimetype": "text/x-python",
   "name": "python",
   "nbconvert_exporter": "python",
   "pygments_lexer": "ipython3",
   "version": "3.8.16"
  },
  "varInspector": {
   "cols": {
    "lenName": 16,
    "lenType": 16,
    "lenVar": 40
   },
   "kernels_config": {
    "python": {
     "delete_cmd_postfix": "",
     "delete_cmd_prefix": "del ",
     "library": "var_list.py",
     "varRefreshCmd": "print(var_dic_list())"
    },
    "r": {
     "delete_cmd_postfix": ") ",
     "delete_cmd_prefix": "rm(",
     "library": "var_list.r",
     "varRefreshCmd": "cat(var_dic_list()) "
    }
   },
   "position": {
    "height": "382.85px",
    "left": "851px",
    "right": "20px",
    "top": "123px",
    "width": "481.4px"
   },
   "types_to_exclude": [
    "module",
    "function",
    "builtin_function_or_method",
    "instance",
    "_Feature"
   ],
   "window_display": false
  },
  "vscode": {
   "interpreter": {
    "hash": "390826ae5fec1acda3008bafe07617a11582d9fa1e6cebd43a0f6c5f25c4f7c4"
   }
  }
 },
 "nbformat": 4,
 "nbformat_minor": 5
}
