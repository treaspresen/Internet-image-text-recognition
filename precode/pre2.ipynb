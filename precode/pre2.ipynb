{
 "cells": [
  {
   "cell_type": "code",
   "execution_count": 1,
   "id": "47364b81",
   "metadata": {
    "ExecuteTime": {
     "end_time": "2023-02-02T05:56:34.704802Z",
     "start_time": "2023-02-02T05:56:34.543631Z"
    }
   },
   "outputs": [],
   "source": [
    "import os\n",
    "import random\n",
    "\n",
    "trainval_percent = 0.1\n",
    "train_percent = 0.9\n",
    "xmlfilepath = 'data/labels'\n",
    "txtsavepath = 'data/ImageSets'\n",
    "\n",
    "total_xml = os.listdir(xmlfilepath)\n",
    "num = len(total_xml)\n",
    "list = range(num)\n",
    "tv = int(num * trainval_percent)\n",
    "tr = int(tv * train_percent)\n",
    "trainval = random.sample(list, tv)\n",
    "train = random.sample(trainval, tr)\n",
    "\n",
    "ftrainval = open('data/ImageSets/trainval.txt', 'w')\n",
    "ftest = open('data/ImageSets/test.txt', 'w')\n",
    "ftrain = open('data/ImageSets/train.txt', 'w')\n",
    "fval = open('data/ImageSets/val.txt', 'w')\n",
    "for i in list:\n",
    "    name = total_xml[i][:-4] + '\\n'\n",
    "    if i in trainval:\n",
    "        ftrainval.write(name)\n",
    "        if i in train:\n",
    "            ftest.write(name)\n",
    "        else:\n",
    "            fval.write(name)\n",
    "    else:\n",
    "        ftrain.write(name)\n",
    "ftrainval.close()\n",
    "ftrain.close()\n",
    "fval.close()\n",
    "ftest.close()"
   ]
  },
  {
   "cell_type": "code",
   "execution_count": 2,
   "id": "c1a992a4",
   "metadata": {
    "ExecuteTime": {
     "end_time": "2023-02-02T06:00:46.363372Z",
     "start_time": "2023-02-02T06:00:46.333841Z"
    }
   },
   "outputs": [],
   "source": [
    "# xml解析包\n",
    "import os\n",
    "# os.listdir() 方法用于返回指定的文件夹包含的文件或文件夹的名字的列表\n",
    "from os import listdir, getcwd\n",
    "from os.path import join\n",
    "\n",
    "\n",
    "sets = ['train', 'test', 'val']\n",
    "\n",
    "for image_set in sets:\n",
    "    # 先找labels文件夹如果不存在则创建\n",
    "    if not os.path.exists('data/labels/'):\n",
    "        os.makedirs('data/labels/')\n",
    "    # 读取在ImageSets中的train、test..等文件的内容\n",
    "    image_ids = open('data/ImageSets/%s.txt' % (image_set)).read().strip().split()\n",
    "    list_file = open('data/%s.txt' % (image_set), 'w')\n",
    "    # 将对应的文件全路径写进去\n",
    "    for image_id in image_ids:\n",
    "        list_file.write('data/images/%s.jpg\\n' % (image_id))\n",
    "    list_file.close()"
   ]
  },
  {
   "cell_type": "code",
   "execution_count": null,
   "id": "45d2a8eb",
   "metadata": {},
   "outputs": [],
   "source": []
  }
 ],
 "metadata": {
  "kernelspec": {
   "display_name": "py36",
   "language": "python",
   "name": "python3"
  },
  "language_info": {
   "codemirror_mode": {
    "name": "ipython",
    "version": 3
   },
   "file_extension": ".py",
   "mimetype": "text/x-python",
   "name": "python",
   "nbconvert_exporter": "python",
   "pygments_lexer": "ipython3",
   "version": "3.6.13"
  },
  "varInspector": {
   "cols": {
    "lenName": 16,
    "lenType": 16,
    "lenVar": 40
   },
   "kernels_config": {
    "python": {
     "delete_cmd_postfix": "",
     "delete_cmd_prefix": "del ",
     "library": "var_list.py",
     "varRefreshCmd": "print(var_dic_list())"
    },
    "r": {
     "delete_cmd_postfix": ") ",
     "delete_cmd_prefix": "rm(",
     "library": "var_list.r",
     "varRefreshCmd": "cat(var_dic_list()) "
    }
   },
   "types_to_exclude": [
    "module",
    "function",
    "builtin_function_or_method",
    "instance",
    "_Feature"
   ],
   "window_display": false
  },
  "vscode": {
   "interpreter": {
    "hash": "ad5eb33c42ed237cec46d7380904ed29704e20bd4da67385ae04c54ebda861c1"
   }
  }
 },
 "nbformat": 4,
 "nbformat_minor": 5
}
