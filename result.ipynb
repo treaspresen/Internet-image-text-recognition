{
 "cells": [
  {
   "cell_type": "code",
   "execution_count": 1,
   "metadata": {},
   "outputs": [],
   "source": [
    "import os\n",
    "import cv2\n",
    "from PIL import Image, ImageDraw, ImageFont\n",
    "import matplotlib.pyplot as plt\n",
    "import numpy as np\n",
    "\n",
    "from tqdm import tqdm"
   ]
  },
  {
   "cell_type": "code",
   "execution_count": 2,
   "metadata": {},
   "outputs": [],
   "source": [
    "from paddleocr import PaddleOCR\n",
    "ocr = PaddleOCR(use_angle_cls = True, use_gpu= False, show_log=False)"
   ]
  },
  {
   "cell_type": "code",
   "execution_count": 3,
   "metadata": {},
   "outputs": [
    {
     "name": "stderr",
     "output_type": "stream",
     "text": [
      "100%|██████████| 10000/10000 [5:00:38<00:00,  1.80s/it] \n"
     ]
    }
   ],
   "source": [
    "labels_path = 'data/labels/'\n",
    "labels_all = os.listdir(labels_path)\n",
    "\n",
    "img_dir = 'data/images_test/'\n",
    "write_dir = './results/'\n",
    "\n",
    "for txt_label in tqdm(labels_all):\n",
    "    txt_ = labels_path + txt_label\n",
    "    # print(txt_)\n",
    "    # break\n",
    "    # 打开图片\n",
    "    img_open = img_dir + txt_label[:-4] + '.jpg'\n",
    "    img = cv2.imread(img_open)\n",
    "    height, width, _ = img.shape\n",
    "    # 打开txt文件, 并将归一化的坐标转换回去\n",
    "    with open(txt_, 'r', encoding='utf-8') as f:\n",
    "        lines = f.readlines()\n",
    "        # print(lines)\n",
    "        for line in lines:\n",
    "            # print(line)\n",
    "            id = int(line.split(' ')[0])\n",
    "            x = float(line.split(' ')[1])\n",
    "            y = float(line.split(' ')[2])\n",
    "            w = float(line.split(' ')[3])\n",
    "            h = float(line.split(' ')[4])\n",
    "            \n",
    "            # x * width * 2 = x1 + x3\n",
    "            # w * width     = x3 - x1\n",
    "            x1 = round((x * width * 2 - w * width) / 2, 2)\n",
    "            x3 = round((x * width * 2 + w * width) / 2, 2)\n",
    "            # y * height * 2 = y1 + y3\n",
    "            # h * height     = y3 - y1\n",
    "            y1 = round((y * height * 2 - h * height) / 2, 2)\n",
    "            y3 = round((y * height * 2 + h * height) / 2, 2)\n",
    "            \n",
    "            x2 = x1\n",
    "            y2 = y3\n",
    "            x4 = x3\n",
    "            y4 = y1\n",
    "            # print(x1, y1, x3, y3)            \n",
    "            # 裁剪、识别         \n",
    "            crop = img[int(y1):int(y3), int(x1):int(x3)]\n",
    "            # cv2.imshow('img', crop)\n",
    "            text = ocr.ocr(crop, cls=True)\n",
    "            # print(text[0])\n",
    "            if text[0] == []:\n",
    "                res_write = str(x1) + ',' + str(y1) + ',' + str(x2) + ',' + str(y2) + ',' + str(x3) + ',' + str(y3) + ',' + str(x4) + ',' + str(y4) + ',' + '###' + \"\\n\"\n",
    "            else:\n",
    "                res_write = str(x1) + ',' + str(y1) + ',' + str(x2) + ',' + str(y2) + ',' + str(x3) + ',' + str(y3) + ',' + str(x4) + ',' + str(y4) + ',' + text[0][0][1][0] + '\\n'\n",
    "            with open(write_dir + txt_label, 'a', encoding='utf-8') as resf:\n",
    "                resf.write(res_write)\n",
    "            resf.close()\n",
    "    f.close()\n",
    "# cv2.waitKey(0)\n",
    "# cv2.destroyAllWindows()"
   ]
  },
  {
   "cell_type": "code",
   "execution_count": null,
   "metadata": {},
   "outputs": [],
   "source": []
  }
 ],
 "metadata": {
  "kernelspec": {
   "display_name": "py38",
   "language": "python",
   "name": "python3"
  },
  "language_info": {
   "codemirror_mode": {
    "name": "ipython",
    "version": 3
   },
   "file_extension": ".py",
   "mimetype": "text/x-python",
   "name": "python",
   "nbconvert_exporter": "python",
   "pygments_lexer": "ipython3",
   "version": "3.8.16"
  },
  "orig_nbformat": 4,
  "vscode": {
   "interpreter": {
    "hash": "390826ae5fec1acda3008bafe07617a11582d9fa1e6cebd43a0f6c5f25c4f7c4"
   }
  }
 },
 "nbformat": 4,
 "nbformat_minor": 2
}
